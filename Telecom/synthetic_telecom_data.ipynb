{
 "cells": [
  {
   "cell_type": "code",
   "execution_count": 17,
   "id": "e15e1961-d831-43f7-9a9a-2481b614ad0f",
   "metadata": {},
   "outputs": [],
   "source": [
    "import pandas as pd\n",
    "import numpy as np\n",
    "import random\n",
    "from datetime import datetime, timedelta\n",
    "import os # We'll use this to manage the directory for our files"
   ]
  },
  {
   "cell_type": "code",
   "execution_count": 12,
   "id": "7a36e28e-f3ec-4816-a6d7-a4e518606ee1",
   "metadata": {},
   "outputs": [],
   "source": [
    "# --- Scalability Parameters ---\n",
    "NUM_CUSTOMERS = 200000 \n",
    "MAX_BILLS_PER_CUSTOMER = 8\n",
    "MAX_USAGE_RECORDS_PER_SUBSCRIPTION = 20"
   ]
  },
  {
   "cell_type": "markdown",
   "id": "2765d280-3c36-42c4-8b3e-d8aa2f2ce77c",
   "metadata": {},
   "source": [
    "### Table 1: Plans"
   ]
  },
  {
   "cell_type": "code",
   "execution_count": 6,
   "id": "3eb7c370-d846-4b91-b29c-0d1c42579dae",
   "metadata": {},
   "outputs": [
    {
     "name": "stdout",
     "output_type": "stream",
     "text": [
      "Plans Table created. Records: 7\n"
     ]
    }
   ],
   "source": [
    "def create_plans_table():\n",
    "    plans_data = {\n",
    "        'plan_id': [101, 102, 103, 104, 105, 106, 107],\n",
    "        'plan_name': ['Basic Talk', 'Data Pro', 'Unlimited Premium', 'Family Plan', 'Business Pro', 'Prepaid Basic', 'IoT Connect'],\n",
    "        'monthly_cost_usd': [19.99, 49.99, 79.99, 99.99, 129.99, 15.00, 5.00],\n",
    "        'data_gb': [2, 20, 100, 50, 150, 5, 0.5],\n",
    "        'voice_minutes': [500, 1000, np.inf, np.inf, np.inf, 200, 0],\n",
    "        'sms_count': [500, 1000, np.inf, np.inf, np.inf, 100, 0]\n",
    "    }\n",
    "    return pd.DataFrame(plans_data)\n",
    "\n",
    "plans_df = create_plans_table()\n",
    "print(\"Plans Table created. Records:\", len(plans_df))"
   ]
  },
  {
   "cell_type": "markdown",
   "id": "bc15e72a-0322-4ea5-879f-c2d622aee798",
   "metadata": {},
   "source": [
    "### Table 2: Customers"
   ]
  },
  {
   "cell_type": "code",
   "execution_count": 4,
   "id": "2fea0634-bb3b-4942-8468-2a696fec5231",
   "metadata": {},
   "outputs": [
    {
     "name": "stdout",
     "output_type": "stream",
     "text": [
      "Customers Table created. Records: 100000\n"
     ]
    }
   ],
   "source": [
    "def create_customers_table(num_customers):\n",
    "    customer_ids = np.arange(100001, 100001 + num_customers)\n",
    "    first_names = ['John', 'Jane', 'Peter', 'Mary', 'Robert', 'Patricia', 'Michael', 'Linda', 'William', 'Elizabeth']\n",
    "    last_names = ['Smith', 'Johnson', 'Williams', 'Brown', 'Jones', 'Garcia', 'Miller', 'Davis', 'Rodriguez', 'Martinez']\n",
    "    \n",
    "    data = {\n",
    "        'customer_id': customer_ids,\n",
    "        'first_name': np.random.choice(first_names, num_customers),\n",
    "        'last_name': np.random.choice(last_names, num_customers),\n",
    "        'email': [f'user_{i}@example.com' for i in range(num_customers)],\n",
    "        'signup_date': [datetime.now() - timedelta(days=random.randint(1, 1500)) for _ in range(num_customers)],\n",
    "        'city': np.random.choice(['New York', 'Los Angeles', 'Chicago', 'Houston', 'Phoenix', 'San Francisco', 'Miami'], num_customers)\n",
    "    }\n",
    "    return pd.DataFrame(data)\n",
    "\n",
    "customers_df = create_customers_table(NUM_CUSTOMERS)\n",
    "print(\"Customers Table created. Records:\", len(customers_df))"
   ]
  },
  {
   "cell_type": "markdown",
   "id": "c51b54fa-b9cd-4057-952f-7589bca94a46",
   "metadata": {
    "jp-MarkdownHeadingCollapsed": true
   },
   "source": [
    "### Table 3: Subscription"
   ]
  },
  {
   "cell_type": "code",
   "execution_count": 7,
   "id": "ce33a7fa-ba1c-46ab-8880-57957a9fa5aa",
   "metadata": {},
   "outputs": [
    {
     "name": "stdout",
     "output_type": "stream",
     "text": [
      "Customer Subscriptions Table created. Records: 100000\n"
     ]
    }
   ],
   "source": [
    "def create_subscriptions_table(customers_df, plans_df):\n",
    "    subscription_data = []\n",
    "    \n",
    "    plan_ids = plans_df['plan_id'].to_list()\n",
    "    \n",
    "    for _, customer_row in customers_df.iterrows():\n",
    "        customer_id = customer_row['customer_id']\n",
    "        plan_id = random.choice(plan_ids)\n",
    "        \n",
    "        subscription_date = customer_row['signup_date']\n",
    "        start_date = subscription_date + timedelta(days=random.randint(0, 30))\n",
    "        \n",
    "        subscription_data.append({\n",
    "            'subscription_id': len(subscription_data) + 1,\n",
    "            'customer_id': customer_id,\n",
    "            'plan_id': plan_id,\n",
    "            'start_date': start_date,\n",
    "            'is_active': random.choice([True, True, True, False])\n",
    "        })\n",
    "    \n",
    "    return pd.DataFrame(subscription_data)\n",
    "\n",
    "subscriptions_df = create_subscriptions_table(customers_df, plans_df)\n",
    "print(\"Customer Subscriptions Table created. Records:\", len(subscriptions_df))"
   ]
  },
  {
   "cell_type": "markdown",
   "id": "65a23a45-3298-4f1b-845d-076deaaf95e1",
   "metadata": {
    "jp-MarkdownHeadingCollapsed": true
   },
   "source": [
    "### Table 4: Bills"
   ]
  },
  {
   "cell_type": "code",
   "execution_count": 10,
   "id": "01aaea68-9397-4c04-b739-0026704f9f81",
   "metadata": {},
   "outputs": [
    {
     "name": "stdout",
     "output_type": "stream",
     "text": [
      "Bills Table created. Records: 486680\n"
     ]
    }
   ],
   "source": [
    "def create_bills_table(subscriptions_df, plans_df):\n",
    "    bills_data = []\n",
    "    bill_id = 1\n",
    "    \n",
    "    # Pre-calculate plan costs for efficiency\n",
    "    plan_cost_map = plans_df.set_index('plan_id')['monthly_cost_usd'].to_dict()\n",
    "    \n",
    "    for _, sub in subscriptions_df.iterrows():\n",
    "        if sub['is_active']:\n",
    "            num_bills = random.randint(1, MAX_BILLS_PER_CUSTOMER)\n",
    "            \n",
    "            for i in range(num_bills):\n",
    "                bill_date = sub['start_date'] + timedelta(days=30 * (i+1))\n",
    "                \n",
    "                plan_cost = plan_cost_map.get(sub['plan_id'], 0)\n",
    "                taxes = round(plan_cost * 0.1, 2)\n",
    "                extra_charges = round(random.uniform(0, 5), 2)\n",
    "                total_amount = round(plan_cost + taxes + extra_charges, 2)\n",
    "                \n",
    "                is_paid = random.choice([True] * 4 + [False]) # 80% paid\n",
    "                payment_date = bill_date + timedelta(days=random.randint(1, 10)) if is_paid else None\n",
    "                \n",
    "                bills_data.append({\n",
    "                    'bill_id': bill_id,\n",
    "                    'subscription_id': sub['subscription_id'],\n",
    "                    'bill_date': bill_date,\n",
    "                    'amount_due_usd': total_amount,\n",
    "                    'is_paid': is_paid,\n",
    "                    'payment_date': payment_date\n",
    "                })\n",
    "                bill_id += 1\n",
    "                \n",
    "    return pd.DataFrame(bills_data)\n",
    "\n",
    "bills_df = create_bills_table(subscriptions_df, plans_df)\n",
    "print(\"Bills Table created. Records:\", len(bills_df))"
   ]
  },
  {
   "cell_type": "markdown",
   "id": "cf21a7ce-815c-4b37-9243-1dbc9a648c92",
   "metadata": {
    "jp-MarkdownHeadingCollapsed": true
   },
   "source": [
    "### Table 5: Usage_Details"
   ]
  },
  {
   "cell_type": "code",
   "execution_count": 14,
   "id": "26028e34-ad7f-4075-a119-e20f3546b95f",
   "metadata": {},
   "outputs": [
    {
     "name": "stdout",
     "output_type": "stream",
     "text": [
      "Usage Details Table created. Records: 787563\n"
     ]
    }
   ],
   "source": [
    "def create_usage_details_table(subscriptions_df):\n",
    "    usage_data = []\n",
    "    usage_id = 1\n",
    "    \n",
    "    active_subscriptions = subscriptions_df[subscriptions_df['is_active']]\n",
    "    \n",
    "    for _, sub in active_subscriptions.iterrows():\n",
    "        num_usage_records = random.randint(1, MAX_USAGE_RECORDS_PER_SUBSCRIPTION)\n",
    "        \n",
    "        for _ in range(num_usage_records):\n",
    "            usage_date = sub['start_date'] + timedelta(days=random.randint(1, (MAX_BILLS_PER_CUSTOMER * 30)))\n",
    "            \n",
    "            usage_type = random.choice(['voice', 'data', 'sms'])\n",
    "            \n",
    "            if usage_type == 'voice':\n",
    "                value = random.randint(1, 60)\n",
    "                unit = 'minutes'\n",
    "            elif usage_type == 'data':\n",
    "                value = random.uniform(0.01, 5.0)\n",
    "                unit = 'gb'\n",
    "            else:\n",
    "                value = random.randint(1, 10)\n",
    "                unit = 'messages'\n",
    "            \n",
    "            usage_data.append({\n",
    "                'usage_id': usage_id,\n",
    "                'subscription_id': sub['subscription_id'],\n",
    "                'usage_date': usage_date,\n",
    "                'usage_type': usage_type,\n",
    "                'usage_value': round(value, 2),\n",
    "                'usage_unit': unit,\n",
    "                'cost_usd': round(random.uniform(0, 2), 2) # Simulate some overage or specific service cost\n",
    "            })\n",
    "            usage_id += 1\n",
    "            \n",
    "    return pd.DataFrame(usage_data)\n",
    "\n",
    "usage_df = create_usage_details_table(subscriptions_df)\n",
    "print(\"Usage Details Table created. Records:\", len(usage_df))"
   ]
  },
  {
   "cell_type": "markdown",
   "id": "1170e53c-9b7b-4e06-97df-1b3cd4ab23a7",
   "metadata": {},
   "source": [
    "##  Verify the Total Number of Records"
   ]
  },
  {
   "cell_type": "code",
   "execution_count": 16,
   "id": "68100c23-88b9-4176-8eea-b2ddbd4825a6",
   "metadata": {},
   "outputs": [
    {
     "name": "stdout",
     "output_type": "stream",
     "text": [
      "\n",
      "==================================================\n",
      "Final Dataset Creation Summary\n",
      "==================================================\n",
      "Plans Table Records:            7\n",
      "Customers Table Records:        100,000\n",
      "Subscriptions Table Records:    100,000\n",
      "Bills Table Records:            486,680\n",
      "Usage Details Table Records:    787,563\n",
      "--------------------------------------------------\n",
      "Total Records Across All Tables: 1,474,250\n",
      "==================================================\n",
      "\n",
      "Sample of Usage Details Table:\n",
      "        usage_id  subscription_id                 usage_date usage_type  \\\n",
      "556435    556436            70655 2022-01-02 15:05:46.994512      voice   \n",
      "261120    261121            32981 2021-12-22 15:05:46.936647        sms   \n",
      "216232    216233            27254 2024-08-15 15:05:46.927420       data   \n",
      "538042    538043            68268 2024-01-21 15:05:46.987601      voice   \n",
      "135317    135318            16990 2022-07-15 15:05:46.908481       data   \n",
      "\n",
      "        usage_value usage_unit  cost_usd  \n",
      "556435        37.00    minutes      0.46  \n",
      "261120         3.00   messages      0.67  \n",
      "216232         0.29         gb      1.16  \n",
      "538042        17.00    minutes      1.75  \n",
      "135317         0.50         gb      0.78  \n",
      "\n",
      "Sample of Bills Table:\n",
      "        bill_id  subscription_id                  bill_date  amount_due_usd  \\\n",
      "121902   121903            24938 2025-11-27 15:05:46.921364           59.83   \n",
      "180320   180321            36838 2025-05-05 15:05:46.942270           56.81   \n",
      "142783   142784            29154 2022-05-02 15:05:46.930722           19.62   \n",
      "311000   311001            63776 2024-09-03 15:05:46.980103            9.88   \n",
      "337559   337560            69210 2023-10-18 15:05:46.990294           17.33   \n",
      "\n",
      "        is_paid               payment_date  \n",
      "121902     True 2025-12-07 15:05:46.921364  \n",
      "180320     True 2025-05-10 15:05:46.942270  \n",
      "142783     True 2022-05-12 15:05:46.930722  \n",
      "311000     True 2024-09-12 15:05:46.980103  \n",
      "337559     True 2023-10-23 15:05:46.990294  \n"
     ]
    }
   ],
   "source": [
    "# --- Verification ---\n",
    "total_records = len(plans_df) + len(customers_df) + len(subscriptions_df) + len(bills_df) + len(usage_df)\n",
    "\n",
    "print(\"\\n\" + \"=\"*50)\n",
    "print(\"Final Dataset Creation Summary\")\n",
    "print(\"=\"*50)\n",
    "print(f\"Plans Table Records:            {len(plans_df):,}\")\n",
    "print(f\"Customers Table Records:        {len(customers_df):,}\")\n",
    "print(f\"Subscriptions Table Records:    {len(subscriptions_df):,}\")\n",
    "print(f\"Bills Table Records:            {len(bills_df):,}\")\n",
    "print(f\"Usage Details Table Records:    {len(usage_df):,}\")\n",
    "print(\"-\" * 50)\n",
    "print(f\"Total Records Across All Tables: {total_records:,}\")\n",
    "print(\"=\"*50)\n",
    "\n",
    "# Display a sample of the new table\n",
    "print(\"\\nSample of Usage Details Table:\")\n",
    "print(usage_df.sample(5))\n",
    "\n",
    "print(\"\\nSample of Bills Table:\")\n",
    "print(bills_df.sample(5))"
   ]
  },
  {
   "cell_type": "markdown",
   "id": "f0c6e091-f46c-4122-88d1-349d90540412",
   "metadata": {},
   "source": [
    "### Export DataFrames to CSV Files"
   ]
  },
  {
   "cell_type": "code",
   "execution_count": 18,
   "id": "d44bff9f-1cc2-4b9a-a07b-377cf98df287",
   "metadata": {},
   "outputs": [
    {
     "name": "stdout",
     "output_type": "stream",
     "text": [
      "\n",
      "==================================================\n",
      "Export Complete\n",
      "==================================================\n",
      "Data has been successfully exported to the 'telecom_data' directory.\n",
      "  - Plans: telecom_data\\plans.csv\n",
      "  - Customers: telecom_data\\customers.csv\n",
      "  - Subscriptions: telecom_data\\customer_subscriptions.csv\n",
      "  - Bills: telecom_data\\bills.csv\n",
      "  - Usage Details: telecom_data\\usage_details.csv\n"
     ]
    }
   ],
   "source": [
    "# --- Export to CSV Files ---\n",
    "\n",
    "# Create a directory to store the CSV files if it doesn't exist\n",
    "output_dir = 'telecom_data'\n",
    "os.makedirs(output_dir, exist_ok=True)\n",
    "\n",
    "# Define file paths\n",
    "plans_file = os.path.join(output_dir, 'plans.csv')\n",
    "customers_file = os.path.join(output_dir, 'customers.csv')\n",
    "subscriptions_file = os.path.join(output_dir, 'customer_subscriptions.csv')\n",
    "bills_file = os.path.join(output_dir, 'bills.csv')\n",
    "usage_file = os.path.join(output_dir, 'usage_details.csv')\n",
    "\n",
    "# Export each DataFrame to its respective CSV file\n",
    "# We use index=False to prevent pandas from writing the DataFrame index as a column\n",
    "plans_df.to_csv(plans_file, index=False)\n",
    "customers_df.to_csv(customers_file, index=False)\n",
    "subscriptions_df.to_csv(subscriptions_file, index=False)\n",
    "bills_df.to_csv(bills_file, index=False)\n",
    "usage_df.to_csv(usage_file, index=False)\n",
    "\n",
    "print(\"\\n\" + \"=\"*50)\n",
    "print(\"Export Complete\")\n",
    "print(\"=\"*50)\n",
    "print(f\"Data has been successfully exported to the '{output_dir}' directory.\")\n",
    "print(f\"  - Plans: {plans_file}\")\n",
    "print(f\"  - Customers: {customers_file}\")\n",
    "print(f\"  - Subscriptions: {subscriptions_file}\")\n",
    "print(f\"  - Bills: {bills_file}\")\n",
    "print(f\"  - Usage Details: {usage_file}\")"
   ]
  }
 ],
 "metadata": {
  "kernelspec": {
   "display_name": "Python 3 (ipykernel)",
   "language": "python",
   "name": "python3"
  },
  "language_info": {
   "codemirror_mode": {
    "name": "ipython",
    "version": 3
   },
   "file_extension": ".py",
   "mimetype": "text/x-python",
   "name": "python",
   "nbconvert_exporter": "python",
   "pygments_lexer": "ipython3",
   "version": "3.13.5"
  }
 },
 "nbformat": 4,
 "nbformat_minor": 5
}
